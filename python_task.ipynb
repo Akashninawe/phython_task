{
 "cells": [
  {
   "cell_type": "markdown",
   "metadata": {},
   "source": [
    "# Math_op usimg function and condition "
   ]
  },
  {
   "cell_type": "code",
   "execution_count": 7,
   "metadata": {},
   "outputs": [
    {
     "name": "stdout",
     "output_type": "stream",
     "text": [
      "addition = 500\n",
      "subtraction = 2500\n",
      "multiplication = 30000\n"
     ]
    }
   ],
   "source": [
    "def mathop (val1,val2,op):\n",
    "    result = val1 + val2\n",
    "    result1 = val1 - val2\n",
    "    result2 = val1 * val2\n",
    "    result3 = val1 / val2\n",
    "    if op == 'addition':\n",
    "        return result\n",
    "    elif op == 'subtraction':\n",
    "        return result1\n",
    "    elif op == 'multiplication':\n",
    "        return result2\n",
    "    else:\n",
    "        return 'operation not define'\n",
    "    \n",
    "\n",
    "addition = mathop(100,400,'addition')\n",
    "subtraction = mathop(3000,500,'subtraction')\n",
    "multiplication = mathop(1000,30,'multiplication')\n",
    "\n",
    "\n",
    "print(f'addition = {addition}')\n",
    "print(f'subtraction = {subtraction}')\n",
    "print(f'multiplication = {multiplication}')\n"
   ]
  },
  {
   "cell_type": "markdown",
   "metadata": {},
   "source": [
    "# Print Pyramid"
   ]
  },
  {
   "cell_type": "code",
   "execution_count": 8,
   "metadata": {},
   "outputs": [
    {
     "name": "stdout",
     "output_type": "stream",
     "text": [
      "         *\n",
      "        ***\n",
      "       *****\n",
      "      *******\n",
      "     *********\n"
     ]
    }
   ],
   "source": [
    "j = 9\n",
    "for i in range(1,10,2):\n",
    "    print(j * ' ' + i * '*')\n",
    "    j=j-1"
   ]
  }
 ],
 "metadata": {
  "kernelspec": {
   "display_name": "Python 3",
   "language": "python",
   "name": "python3"
  },
  "language_info": {
   "codemirror_mode": {
    "name": "ipython",
    "version": 3
   },
   "file_extension": ".py",
   "mimetype": "text/x-python",
   "name": "python",
   "nbconvert_exporter": "python",
   "pygments_lexer": "ipython3",
   "version": "3.12.4"
  }
 },
 "nbformat": 4,
 "nbformat_minor": 2
}
